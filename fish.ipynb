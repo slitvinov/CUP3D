{
 "cells": [
  {
   "cell_type": "markdown",
   "metadata": {
    "colab_type": "text",
    "id": "view-in-github"
   },
   "source": [
    "<a href=\"https://colab.research.google.com/github/slitvinov/CUP3D/blob/AMR/fish.ipynb\" target=\"_parent\"><img src=\"https://colab.research.google.com/assets/colab-badge.svg\" alt=\"Open In Colab\"/></a>"
   ]
  },
  {
   "cell_type": "markdown",
   "metadata": {
    "id": "LQrE3xfW-0nl"
   },
   "source": [
    "[![Open In Colab](https://colab.research.google.com/assets/colab-badge.svg)](https://colab.research.google.com/github/slitvinov/CUP3D/blob/AMR/fish.ipynb)"
   ]
  },
  {
   "cell_type": "code",
   "execution_count": null,
   "metadata": {
    "id": "ke1Lz2dzilFc"
   },
   "outputs": [],
   "source": [
    "%%sh\n",
    "git clone -q https://github.com/slitvinov/CUP3D.git\n",
    "sudo apt-get install -qq libhdf5-mpich-dev libgsl-dev"
   ]
  },
  {
   "cell_type": "code",
   "execution_count": null,
   "metadata": {
    "id": "S29iiopwnAl2"
   },
   "outputs": [],
   "source": [
    "%%sh\n",
    "rm -f *.restart *.h5 *.xmf *.dat\n",
    "OMPI_ALLOW_RUN_AS_ROOT=1 OMPI_ALLOW_RUN_AS_ROOT_CONFIRM=1 OMP_NUM_THREADS=1 \\\n",
    "exec mpiexec.mpich CUP3D/bin/main \\\n",
    "     -bMeanConstraint 2 \\\n",
    "     -bpdx 1 \\\n",
    "     -bpdy 1 \\\n",
    "     -bpdz 1 \\\n",
    "     -CFL 0.4 \\\n",
    "     -Ctol 0.1 \\\n",
    "     -extentx 1 \\\n",
    "     -factory-content \\\n",
    "     'StefanFish L=0.4 T=1.0 xpos=0.4 ypos=0.5 zpos=0.25 CorrectPosition=true CorrectZ=true CorrectRoll=true heightProfile=danio widthProfile=stefan bFixFrameOfRef=1\n",
    "      StefanFish L=0.4 T=1.0 xpos=0.4 ypos=0.5 zpos=0.50 CorrectPosition=true CorrectZ=true CorrectRoll=true heightProfile=danio widthProfile=stefan\n",
    "      StefanFish L=0.4 T=1.0 xpos=0.4 ypos=0.5 zpos=0.75 CorrectPosition=true CorrectZ=true CorrectRoll=true heightProfile=danio widthProfile=stefan' \\\n",
    "     -levelMax 4 \\\n",
    "     -levelStart 3 \\\n",
    "     -nu 0.001 \\\n",
    "     -poissonSolver iterative \\\n",
    "     -Rtol 5 \\\n",
    "     -tdump 0.5 \\\n",
    "     -tend 5 \\"
   ]
  },
  {
   "cell_type": "code",
   "execution_count": null,
   "metadata": {
    "id": "VXO3jX5rCi_C"
   },
   "outputs": [],
   "source": [
    "import glob\n",
    "import h5py\n",
    "import numpy as np\n",
    "import sys\n",
    "import os\n",
    "import re\n",
    "import xml.etree.ElementTree\n",
    "import matplotlib.pyplot as plt\n",
    "import matplotlib.animation\n",
    "\n",
    "def plot(path):\n",
    "    x = xml.etree.ElementTree.parse(path)\n",
    "    root = x.getroot()\n",
    "    hdf_data = root.find('.//DataItem[@Format=\"HDF\"]')\n",
    "    hdf_path = hdf_data.text\n",
    "    hdf_path = re.sub(\"^[ \\t\\n]*\", \"\", hdf_path)\n",
    "    hdf_path = re.sub(\"[ \\t\\n]*$\", \"\", hdf_path)\n",
    "    hdf_data = re.sub(\"^.*:\", \"\", hdf_path)\n",
    "    hdf_path = re.sub(\":[^:]*$\", \"\", hdf_path)\n",
    "    dirname = os.path.dirname(path)\n",
    "    hdf_path = os.path.join(dirname, hdf_path)\n",
    "    xx = [ ]\n",
    "    yy = [ ]\n",
    "    zz = [ ]\n",
    "    with h5py.File(hdf_path) as f:\n",
    "        offset = 0\n",
    "        for grid in root.findall('.//Grid[@GridType=\"Uniform\"]'):\n",
    "            topology = grid.find('./Topology')\n",
    "            geometry = grid.find('./Geometry[@GeometryType=\"ORIGIN_DXDYDZ\"]')\n",
    "            dorg, dspa = geometry.findall(\"./DataItem\")\n",
    "            ddim = topology.get(\"Dimensions\")\n",
    "            ox, oy, oz = [float(e) for e in dorg.text.split()]\n",
    "            sx, sy, sz = [float(e) for e in dspa.text.split()]\n",
    "            nx, ny, nz = [int(e) for e in ddim.split()]\n",
    "            size = (nx - 1) * (ny - 1) * (nz - 1)\n",
    "            data = f[hdf_data][offset:offset + size]\n",
    "            data = data.reshape((nx - 1, ny - 1, nz - 1))\n",
    "            ix, iy, iz = np.where(data > 0)\n",
    "            x = (ix + 1 / 2) * sx + ox\n",
    "            y = (iy + 1 / 2) * sy + oy\n",
    "            z = (iz + 1 / 2) * sz + oz\n",
    "            xx.append(x)\n",
    "            yy.append(y)\n",
    "            zz.append(z)\n",
    "            offset += size\n",
    "    points.set_data(np.concatenate(zz), np.concatenate(xx))\n",
    "matplotlib.rc(\"animation\", html=\"jshtml\")\n",
    "plt.ioff()\n",
    "plt.axis((0, 1, 0, 1))\n",
    "plt.axis(\"on\")\n",
    "plt.axis(\"equal\")\n",
    "points, = plt.plot([0, 1], [0, 1], 'o', alpha=0.1)\n",
    "anim = matplotlib.animation.FuncAnimation(plt.gcf(), plot, glob.glob(\"chi_*.xmf\"))\n",
    "plt.close()\n",
    "display(anim);"
   ]
  }
 ],
 "metadata": {
  "colab": {
   "authorship_tag": "ABX9TyMMahTwlzHlGH6t3Hkavnj6",
   "include_colab_link": true,
   "provenance": []
  },
  "kernelspec": {
   "display_name": "Python 3",
   "name": "python3"
  },
  "language_info": {
   "name": "python"
  }
 },
 "nbformat": 4,
 "nbformat_minor": 0
}
