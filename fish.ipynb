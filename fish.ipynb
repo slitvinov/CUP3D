{
  "nbformat": 4,
  "nbformat_minor": 0,
  "metadata": {
    "colab": {
      "provenance": [],
      "authorship_tag": "ABX9TyOuisRUtyBN6+dS6kBE0RoV",
      "include_colab_link": true
    },
    "kernelspec": {
      "name": "python3",
      "display_name": "Python 3"
    },
    "language_info": {
      "name": "python"
    }
  },
  "cells": [
    {
      "cell_type": "markdown",
      "metadata": {
        "id": "view-in-github",
        "colab_type": "text"
      },
      "source": [
        "<a href=\"https://colab.research.google.com/github/slitvinov/CUP3D/blob/AMR/fish.ipynb\" target=\"_parent\"><img src=\"https://colab.research.google.com/assets/colab-badge.svg\" alt=\"Open In Colab\"/></a>"
      ]
    },
    {
      "cell_type": "markdown",
      "source": [
        "[![Open In Colab](https://colab.research.google.com/assets/colab-badge.svg)](https://colab.research.google.com/github/slitvinov/CUP3D/blob/AMR/fish.ipynb)"
      ],
      "metadata": {
        "id": "LQrE3xfW-0nl"
      }
    },
    {
      "cell_type": "code",
      "execution_count": 1,
      "metadata": {
        "colab": {
          "base_uri": "https://localhost:8080/"
        },
        "id": "ke1Lz2dzilFc",
        "outputId": "136dd862-8616-4b96-8b98-8ef6ae29dda2"
      },
      "outputs": [
        {
          "output_type": "stream",
          "name": "stderr",
          "text": [
            "Cloning into 'CUP3D'...\n"
          ]
        }
      ],
      "source": [
        "%%sh\n",
        "git clone https://github.com/slitvinov/CUP3D.git"
      ]
    },
    {
      "cell_type": "code",
      "source": [
        "%%sh\n",
        "sudo apt install libhdf5-mpich-dev libgsl-dev"
      ],
      "metadata": {
        "colab": {
          "base_uri": "https://localhost:8080/"
        },
        "id": "yfpZ9Vtoj26Z",
        "outputId": "0ff25a81-1557-4136-9ac3-5c7fc1e78007"
      },
      "execution_count": null,
      "outputs": [
        {
          "output_type": "stream",
          "name": "stdout",
          "text": [
            "Reading package lists...\n",
            "Building dependency tree...\n",
            "Reading state information...\n",
            "The following additional packages will be installed:\n",
            "  hwloc-nox libgsl27 libgslcblas0 libhdf5-mpich-103-1 libhdf5-mpich-cpp-103-1\n",
            "  libhdf5-mpich-fortran-102 libhdf5-mpich-hl-100 libhdf5-mpich-hl-cpp-100\n",
            "  libhdf5-mpich-hl-fortran-100 libmpich-dev libmpich12 libslurm37 mpich\n",
            "Suggested packages:\n",
            "  gsl-ref-psdoc | gsl-doc-pdf | gsl-doc-info | gsl-ref-html libhdf5-doc\n",
            "  mpich-doc\n",
            "The following NEW packages will be installed:\n",
            "  hwloc-nox libgsl-dev libgsl27 libgslcblas0 libhdf5-mpich-103-1\n",
            "  libhdf5-mpich-cpp-103-1 libhdf5-mpich-dev libhdf5-mpich-fortran-102\n",
            "  libhdf5-mpich-hl-100 libhdf5-mpich-hl-cpp-100 libhdf5-mpich-hl-fortran-100\n",
            "  libmpich-dev libmpich12 libslurm37 mpich\n",
            "0 upgraded, 15 newly installed, 0 to remove and 45 not upgraded.\n",
            "Need to get 21.0 MB of archives.\n",
            "After this operation, 131 MB of additional disk space will be used.\n",
            "Get:1 http://archive.ubuntu.com/ubuntu jammy/universe amd64 libgslcblas0 amd64 2.7.1+dfsg-3 [94.4 kB]\n",
            "Get:2 http://archive.ubuntu.com/ubuntu jammy/universe amd64 libgsl27 amd64 2.7.1+dfsg-3 [1,000 kB]\n",
            "Get:3 http://archive.ubuntu.com/ubuntu jammy/universe amd64 libgsl-dev amd64 2.7.1+dfsg-3 [1,257 kB]\n",
            "Get:4 http://archive.ubuntu.com/ubuntu jammy/universe amd64 libmpich12 amd64 4.0-3 [5,866 kB]\n",
            "Get:5 http://archive.ubuntu.com/ubuntu jammy/universe amd64 libhdf5-mpich-103-1 amd64 1.10.7+repack-4ubuntu2 [1,345 kB]\n",
            "Get:6 http://archive.ubuntu.com/ubuntu jammy/universe amd64 libhdf5-mpich-cpp-103-1 amd64 1.10.7+repack-4ubuntu2 [129 kB]\n",
            "Get:7 http://archive.ubuntu.com/ubuntu jammy/universe amd64 libhdf5-mpich-fortran-102 amd64 1.10.7+repack-4ubuntu2 [91.6 kB]\n",
            "Get:8 http://archive.ubuntu.com/ubuntu jammy/universe amd64 libhdf5-mpich-hl-100 amd64 1.10.7+repack-4ubuntu2 [59.2 kB]\n",
            "Get:9 http://archive.ubuntu.com/ubuntu jammy/universe amd64 libhdf5-mpich-hl-cpp-100 amd64 1.10.7+repack-4ubuntu2 [10.7 kB]\n",
            "Get:10 http://archive.ubuntu.com/ubuntu jammy/universe amd64 libhdf5-mpich-hl-fortran-100 amd64 1.10.7+repack-4ubuntu2 [33.8 kB]\n",
            "Get:11 http://archive.ubuntu.com/ubuntu jammy/universe amd64 libslurm37 amd64 21.08.5-2ubuntu1 [542 kB]\n",
            "Get:12 http://archive.ubuntu.com/ubuntu jammy-updates/universe amd64 hwloc-nox amd64 2.7.0-2ubuntu1 [205 kB]\n",
            "Get:13 http://archive.ubuntu.com/ubuntu jammy/universe amd64 mpich amd64 4.0-3 [197 kB]\n",
            "Get:14 http://archive.ubuntu.com/ubuntu jammy/universe amd64 libmpich-dev amd64 4.0-3 [7,375 kB]\n",
            "Get:15 http://archive.ubuntu.com/ubuntu jammy/universe amd64 libhdf5-mpich-dev amd64 1.10.7+repack-4ubuntu2 [2,749 kB]\n",
            "Fetched 21.0 MB in 4s (5,669 kB/s)\n",
            "Selecting previously unselected package libgslcblas0:amd64.\r\n",
            "(Reading database ... \r(Reading database ... 5%\r(Reading database ... 10%\r(Reading database ... 15%\r(Reading database ... 20%\r(Reading database ... 25%\r(Reading database ... 30%\r(Reading database ... 35%\r(Reading database ... 40%\r(Reading database ... 45%\r(Reading database ... 50%\r(Reading database ... 55%\r(Reading database ... 60%\r(Reading database ... 65%\r(Reading database ... 70%\r(Reading database ... 75%\r(Reading database ... 80%\r(Reading database ... 85%\r(Reading database ... 90%\r(Reading database ... 95%\r(Reading database ... 100%\r(Reading database ... 121918 files and directories currently installed.)\r\n",
            "Preparing to unpack .../00-libgslcblas0_2.7.1+dfsg-3_amd64.deb ...\r\n",
            "Unpacking libgslcblas0:amd64 (2.7.1+dfsg-3) ...\r\n",
            "Selecting previously unselected package libgsl27:amd64.\r\n",
            "Preparing to unpack .../01-libgsl27_2.7.1+dfsg-3_amd64.deb ...\r\n",
            "Unpacking libgsl27:amd64 (2.7.1+dfsg-3) ...\r\n",
            "Selecting previously unselected package libgsl-dev.\r\n",
            "Preparing to unpack .../02-libgsl-dev_2.7.1+dfsg-3_amd64.deb ...\r\n",
            "Unpacking libgsl-dev (2.7.1+dfsg-3) ...\r\n",
            "Selecting previously unselected package libmpich12:amd64.\r\n",
            "Preparing to unpack .../03-libmpich12_4.0-3_amd64.deb ...\r\n",
            "Unpacking libmpich12:amd64 (4.0-3) ...\r\n",
            "Selecting previously unselected package libhdf5-mpich-103-1:amd64.\r\n",
            "Preparing to unpack .../04-libhdf5-mpich-103-1_1.10.7+repack-4ubuntu2_amd64.deb ...\r\n",
            "Unpacking libhdf5-mpich-103-1:amd64 (1.10.7+repack-4ubuntu2) ...\r\n",
            "Selecting previously unselected package libhdf5-mpich-cpp-103-1:amd64.\r\n",
            "Preparing to unpack .../05-libhdf5-mpich-cpp-103-1_1.10.7+repack-4ubuntu2_amd64.deb ...\r\n",
            "Unpacking libhdf5-mpich-cpp-103-1:amd64 (1.10.7+repack-4ubuntu2) ...\r\n",
            "Selecting previously unselected package libhdf5-mpich-fortran-102:amd64.\r\n",
            "Preparing to unpack .../06-libhdf5-mpich-fortran-102_1.10.7+repack-4ubuntu2_amd64.deb ...\r\n",
            "Unpacking libhdf5-mpich-fortran-102:amd64 (1.10.7+repack-4ubuntu2) ...\r\n",
            "Selecting previously unselected package libhdf5-mpich-hl-100:amd64.\r\n",
            "Preparing to unpack .../07-libhdf5-mpich-hl-100_1.10.7+repack-4ubuntu2_amd64.deb ...\r\n",
            "Unpacking libhdf5-mpich-hl-100:amd64 (1.10.7+repack-4ubuntu2) ...\r\n",
            "Selecting previously unselected package libhdf5-mpich-hl-cpp-100:amd64.\r\n",
            "Preparing to unpack .../08-libhdf5-mpich-hl-cpp-100_1.10.7+repack-4ubuntu2_amd64.deb ...\r\n",
            "Unpacking libhdf5-mpich-hl-cpp-100:amd64 (1.10.7+repack-4ubuntu2) ...\r\n",
            "Selecting previously unselected package libhdf5-mpich-hl-fortran-100:amd64.\r\n",
            "Preparing to unpack .../09-libhdf5-mpich-hl-fortran-100_1.10.7+repack-4ubuntu2_amd64.deb ...\r\n",
            "Unpacking libhdf5-mpich-hl-fortran-100:amd64 (1.10.7+repack-4ubuntu2) ...\r\n",
            "Selecting previously unselected package libslurm37.\r\n",
            "Preparing to unpack .../10-libslurm37_21.08.5-2ubuntu1_amd64.deb ...\r\n",
            "Unpacking libslurm37 (21.08.5-2ubuntu1) ...\r\n",
            "Selecting previously unselected package hwloc-nox.\r\n",
            "Preparing to unpack .../11-hwloc-nox_2.7.0-2ubuntu1_amd64.deb ...\r\n",
            "Unpacking hwloc-nox (2.7.0-2ubuntu1) ...\r\n",
            "Selecting previously unselected package mpich.\r\n",
            "Preparing to unpack .../12-mpich_4.0-3_amd64.deb ...\r\n",
            "Unpacking mpich (4.0-3) ...\r\n",
            "Selecting previously unselected package libmpich-dev:amd64.\r\n",
            "Preparing to unpack .../13-libmpich-dev_4.0-3_amd64.deb ...\r\n",
            "Unpacking libmpich-dev:amd64 (4.0-3) ...\r\n",
            "Selecting previously unselected package libhdf5-mpich-dev.\r\n",
            "Preparing to unpack .../14-libhdf5-mpich-dev_1.10.7+repack-4ubuntu2_amd64.deb ...\r\n",
            "Unpacking libhdf5-mpich-dev (1.10.7+repack-4ubuntu2) ...\r\n",
            "Setting up libslurm37 (21.08.5-2ubuntu1) ...\r\n",
            "Setting up libgslcblas0:amd64 (2.7.1+dfsg-3) ...\r\n",
            "Setting up hwloc-nox (2.7.0-2ubuntu1) ...\r\n",
            "Setting up libgsl27:amd64 (2.7.1+dfsg-3) ...\r\n",
            "Setting up libmpich12:amd64 (4.0-3) ...\r\n",
            "Setting up libgsl-dev (2.7.1+dfsg-3) ...\r\n",
            "Setting up mpich (4.0-3) ...\r\n",
            "Setting up libhdf5-mpich-103-1:amd64 (1.10.7+repack-4ubuntu2) ...\r\n",
            "Setting up libhdf5-mpich-fortran-102:amd64 (1.10.7+repack-4ubuntu2) ...\r\n",
            "Setting up libmpich-dev:amd64 (4.0-3) ...\r\n",
            "Setting up libhdf5-mpich-hl-100:amd64 (1.10.7+repack-4ubuntu2) ...\r\n",
            "Setting up libhdf5-mpich-hl-fortran-100:amd64 (1.10.7+repack-4ubuntu2) ...\r\n",
            "Setting up libhdf5-mpich-cpp-103-1:amd64 (1.10.7+repack-4ubuntu2) ...\r\n",
            "Setting up libhdf5-mpich-hl-cpp-100:amd64 (1.10.7+repack-4ubuntu2) ...\r\n",
            "Setting up libhdf5-mpich-dev (1.10.7+repack-4ubuntu2) ...\r\n",
            "update-alternatives: using /usr/bin/h5pcc.mpich to provide /usr/bin/h5pcc (h5pcc) in auto mode\r\n",
            "update-alternatives: using /usr/lib/x86_64-linux-gnu/pkgconfig/hdf5-mpi.pc to provide /usr/lib/x86_64-linux-gnu/pkgconfig/hdf5.pc (hdf5.pc) in auto mode\r\n",
            "Processing triggers for libc-bin (2.35-0ubuntu3.4) ...\r\n",
            "/sbin/ldconfig.real: /usr/local/lib/libtbbbind.so.3 is not a symbolic link\r\n",
            "\r\n",
            "/sbin/ldconfig.real: /usr/local/lib/libtbbmalloc_proxy.so.2 is not a symbolic link\r\n",
            "\r\n",
            "/sbin/ldconfig.real: /usr/local/lib/libtbb.so.12 is not a symbolic link\r\n",
            "\r\n",
            "/sbin/ldconfig.real: /usr/local/lib/libtbbmalloc.so.2 is not a symbolic link\r\n",
            "\r\n",
            "/sbin/ldconfig.real: /usr/local/lib/libtbbbind_2_0.so.3 is not a symbolic link\r\n",
            "\r\n",
            "/sbin/ldconfig.real: /usr/local/lib/libtbbbind_2_5.so.3 is not a symbolic link\r\n",
            "\r\n",
            "Processing triggers for man-db (2.10.2-1) ...\r\n"
          ]
        },
        {
          "output_type": "stream",
          "name": "stderr",
          "text": [
            "\n",
            "WARNING: apt does not have a stable CLI interface. Use with caution in scripts.\n",
            "\n",
            "debconf: unable to initialize frontend: Dialog\n",
            "debconf: (No usable dialog-like program is installed, so the dialog based frontend cannot be used. at /usr/share/perl5/Debconf/FrontEnd/Dialog.pm line 78, <> line 15.)\n",
            "debconf: falling back to frontend: Readline\n",
            "debconf: unable to initialize frontend: Readline\n",
            "debconf: (This frontend requires a controlling tty.)\n",
            "debconf: falling back to frontend: Teletype\n",
            "dpkg-preconfigure: unable to re-open stdin: \n"
          ]
        }
      ]
    },
    {
      "cell_type": "code",
      "source": [
        "%%sh\n",
        "cd CUP3D\n",
        "MPICC=h5c++.mpich sh build.sh"
      ],
      "metadata": {
        "colab": {
          "base_uri": "https://localhost:8080/"
        },
        "id": "TZqd8Bb_i9RG",
        "outputId": "a039bd60-c80f-4dcc-9c0d-88f43b48c052"
      },
      "execution_count": null,
      "outputs": [
        {
          "output_type": "stream",
          "name": "stderr",
          "text": [
            "In file included from Cubism/Cubism/BlockLab.h:4,\n",
            "                 from source/Obstacles/../Definitions.h:19,\n",
            "                 from source/Obstacles/../ObstacleBlock.h:12,\n",
            "                 from source/Obstacles/Obstacle.h:9,\n",
            "                 from source/Obstacles/Fish.h:9,\n",
            "                 from source/Obstacles/Naca.h:9,\n",
            "                 from source/Obstacles/SmartNaca.h:9,\n",
            "                 from source/Obstacles/SmartNaca.cpp:7:\n",
            "Cubism/Cubism/Matrix3D.h: In member function ‘void cubism::Matrix3D<DataType, allocator>::_Setup(unsigned int, unsigned int, unsigned int) [with DataType = cubism::ScalarElement<double>; allocator = cubismup3d::aligned_block_allocator]’:\n",
            "Cubism/Cubism/Matrix3D.h:57:21: warning: ignoring return value of ‘int posix_memalign(void**, size_t, size_t)’ declared with attribute ‘warn_unused_result’ [-Wunused-result]\n",
            "   57 |       posix_memalign((void **)&m_pData, std::max(8, CUBISM_ALIGNMENT), sizeof(DataType) * m_nElements);\n",
            "      |       ~~~~~~~~~~~~~~^~~~~~~~~~~~~~~~~~~~~~~~~~~~~~~~~~~~~~~~~~~~~~~~~~~~~~~~~~~~~~~~~~~~~~~~~~~~~~~~~~\n",
            "In file included from Cubism/Cubism/BlockLab.h:4,\n",
            "                 from source/operators/../Definitions.h:19,\n",
            "                 from source/operators/../SimulationData.h:9,\n",
            "                 from source/operators/Operator.h:8,\n",
            "                 from source/operators/AdvectionDiffusion.h:11,\n",
            "                 from source/operators/AdvectionDiffusion.cpp:8:\n",
            "Cubism/Cubism/Matrix3D.h: In member function ‘void cubism::Matrix3D<DataType, allocator>::_Setup(unsigned int, unsigned int, unsigned int) [with DataType = cubism::VectorElement<3, double>; allocator = cubismup3d::aligned_block_allocator]’:\n",
            "Cubism/Cubism/Matrix3D.h:57:21: warning: ignoring return value of ‘int posix_memalign(void**, size_t, size_t)’ declared with attribute ‘warn_unused_result’ [-Wunused-result]\n",
            "   57 |       posix_memalign((void **)&m_pData, std::max(8, CUBISM_ALIGNMENT), sizeof(DataType) * m_nElements);\n",
            "      |       ~~~~~~~~~~~~~~^~~~~~~~~~~~~~~~~~~~~~~~~~~~~~~~~~~~~~~~~~~~~~~~~~~~~~~~~~~~~~~~~~~~~~~~~~~~~~~~~~\n",
            "In file included from Cubism/Cubism/BlockLab.h:4,\n",
            "                 from source/operators/../Definitions.h:19,\n",
            "                 from source/operators/../SimulationData.h:9,\n",
            "                 from source/operators/Operator.h:8,\n",
            "                 from source/operators/AdvectionDiffusionImplicit.h:9,\n",
            "                 from source/operators/AdvectionDiffusionImplicit.cpp:8:\n",
            "Cubism/Cubism/Matrix3D.h: In member function ‘void cubism::Matrix3D<DataType, allocator>::_Setup(unsigned int, unsigned int, unsigned int) [with DataType = cubism::VectorElement<3, double>; allocator = cubismup3d::aligned_block_allocator]’:\n",
            "Cubism/Cubism/Matrix3D.h:57:21: warning: ignoring return value of ‘int posix_memalign(void**, size_t, size_t)’ declared with attribute ‘warn_unused_result’ [-Wunused-result]\n",
            "   57 |       posix_memalign((void **)&m_pData, std::max(8, CUBISM_ALIGNMENT), sizeof(DataType) * m_nElements);\n",
            "      |       ~~~~~~~~~~~~~~^~~~~~~~~~~~~~~~~~~~~~~~~~~~~~~~~~~~~~~~~~~~~~~~~~~~~~~~~~~~~~~~~~~~~~~~~~~~~~~~~~\n",
            "Cubism/Cubism/Matrix3D.h: In member function ‘void cubism::Matrix3D<DataType, allocator>::_Setup(unsigned int, unsigned int, unsigned int) [with DataType = cubism::ScalarElement<double>; allocator = cubismup3d::aligned_block_allocator]’:\n",
            "Cubism/Cubism/Matrix3D.h:57:21: warning: ignoring return value of ‘int posix_memalign(void**, size_t, size_t)’ declared with attribute ‘warn_unused_result’ [-Wunused-result]\n",
            "In file included from Cubism/Cubism/BlockLab.h:4,\n",
            "                 from source/operators/../Definitions.h:19,\n",
            "                 from source/operators/../SimulationData.h:9,\n",
            "                 from source/operators/Operator.h:8,\n",
            "                 from source/operators/ComputeDissipation.h:12,\n",
            "                 from source/operators/ComputeDissipation.cpp:9:\n",
            "Cubism/Cubism/Matrix3D.h: In member function ‘void cubism::Matrix3D<DataType, allocator>::_Setup(unsigned int, unsigned int, unsigned int) [with DataType = cubism::VectorElement<3, double>; allocator = cubismup3d::aligned_block_allocator]’:\n",
            "Cubism/Cubism/Matrix3D.h:57:21: warning: ignoring return value of ‘int posix_memalign(void**, size_t, size_t)’ declared with attribute ‘warn_unused_result’ [-Wunused-result]\n",
            "   57 |       posix_memalign((void **)&m_pData, std::max(8, CUBISM_ALIGNMENT), sizeof(DataType) * m_nElements);\n",
            "      |       ~~~~~~~~~~~~~~^~~~~~~~~~~~~~~~~~~~~~~~~~~~~~~~~~~~~~~~~~~~~~~~~~~~~~~~~~~~~~~~~~~~~~~~~~~~~~~~~~\n",
            "Cubism/Cubism/Matrix3D.h: In member function ‘void cubism::Matrix3D<DataType, allocator>::_Setup(unsigned int, unsigned int, unsigned int) [with DataType = cubism::ScalarElement<double>; allocator = cubismup3d::aligned_block_allocator]’:\n",
            "Cubism/Cubism/Matrix3D.h:57:21: warning: ignoring return value of ‘int posix_memalign(void**, size_t, size_t)’ declared with attribute ‘warn_unused_result’ [-Wunused-result]\n",
            "In file included from Cubism/Cubism/BlockLab.h:4,\n",
            "                 from source/operators/../Definitions.h:19,\n",
            "                 from source/operators/../SimulationData.h:9,\n",
            "                 from source/operators/Operator.h:8,\n",
            "                 from source/operators/FluidSolidForces.h:9,\n",
            "                 from source/operators/FluidSolidForces.cpp:7:\n",
            "Cubism/Cubism/Matrix3D.h: In member function ‘void cubism::Matrix3D<DataType, allocator>::_Setup(unsigned int, unsigned int, unsigned int) [with DataType = cubism::VectorElement<3, double>; allocator = cubismup3d::aligned_block_allocator]’:\n",
            "Cubism/Cubism/Matrix3D.h:57:21: warning: ignoring return value of ‘int posix_memalign(void**, size_t, size_t)’ declared with attribute ‘warn_unused_result’ [-Wunused-result]\n",
            "   57 |       posix_memalign((void **)&m_pData, std::max(8, CUBISM_ALIGNMENT), sizeof(DataType) * m_nElements);\n",
            "      |       ~~~~~~~~~~~~~~^~~~~~~~~~~~~~~~~~~~~~~~~~~~~~~~~~~~~~~~~~~~~~~~~~~~~~~~~~~~~~~~~~~~~~~~~~~~~~~~~~\n",
            "Cubism/Cubism/Matrix3D.h: In member function ‘void cubism::Matrix3D<DataType, allocator>::_Setup(unsigned int, unsigned int, unsigned int) [with DataType = cubism::ScalarElement<double>; allocator = cubismup3d::aligned_block_allocator]’:\n",
            "Cubism/Cubism/Matrix3D.h:57:21: warning: ignoring return value of ‘int posix_memalign(void**, size_t, size_t)’ declared with attribute ‘warn_unused_result’ [-Wunused-result]\n",
            "In file included from Cubism/Cubism/BlockLab.h:4,\n",
            "                 from source/operators/../Definitions.h:19,\n",
            "                 from source/operators/../SimulationData.h:9,\n",
            "                 from source/operators/Operator.h:8,\n",
            "                 from source/operators/InitialConditions.h:12,\n",
            "                 from source/operators/InitialConditions.cpp:9:\n",
            "Cubism/Cubism/Matrix3D.h: In member function ‘void cubism::Matrix3D<DataType, allocator>::_Setup(unsigned int, unsigned int, unsigned int) [with DataType = cubism::VectorElement<3, double>; allocator = cubismup3d::aligned_block_allocator]’:\n",
            "Cubism/Cubism/Matrix3D.h:57:21: warning: ignoring return value of ‘int posix_memalign(void**, size_t, size_t)’ declared with attribute ‘warn_unused_result’ [-Wunused-result]\n",
            "   57 |       posix_memalign((void **)&m_pData, std::max(8, CUBISM_ALIGNMENT), sizeof(DataType) * m_nElements);\n",
            "      |       ~~~~~~~~~~~~~~^~~~~~~~~~~~~~~~~~~~~~~~~~~~~~~~~~~~~~~~~~~~~~~~~~~~~~~~~~~~~~~~~~~~~~~~~~~~~~~~~~\n",
            "In file included from Cubism/Cubism/BlockLab.h:4,\n",
            "                 from source/operators/../Definitions.h:19,\n",
            "                 from source/operators/../SimulationData.h:9,\n",
            "                 from source/operators/Operator.h:8,\n",
            "                 from source/operators/PressureProjection.h:12,\n",
            "                 from source/operators/PressureProjection.cpp:9:\n",
            "Cubism/Cubism/Matrix3D.h: In member function ‘void cubism::Matrix3D<DataType, allocator>::_Setup(unsigned int, unsigned int, unsigned int) [with DataType = cubism::VectorElement<3, double>; allocator = cubismup3d::aligned_block_allocator]’:\n",
            "Cubism/Cubism/Matrix3D.h:57:21: warning: ignoring return value of ‘int posix_memalign(void**, size_t, size_t)’ declared with attribute ‘warn_unused_result’ [-Wunused-result]\n",
            "   57 |       posix_memalign((void **)&m_pData, std::max(8, CUBISM_ALIGNMENT), sizeof(DataType) * m_nElements);\n",
            "      |       ~~~~~~~~~~~~~~^~~~~~~~~~~~~~~~~~~~~~~~~~~~~~~~~~~~~~~~~~~~~~~~~~~~~~~~~~~~~~~~~~~~~~~~~~~~~~~~~~\n",
            "Cubism/Cubism/Matrix3D.h: In member function ‘void cubism::Matrix3D<DataType, allocator>::_Setup(unsigned int, unsigned int, unsigned int) [with DataType = cubism::ScalarElement<double>; allocator = cubismup3d::aligned_block_allocator]’:\n",
            "Cubism/Cubism/Matrix3D.h:57:21: warning: ignoring return value of ‘int posix_memalign(void**, size_t, size_t)’ declared with attribute ‘warn_unused_result’ [-Wunused-result]\n",
            "In file included from Cubism/Cubism/BlockLab.h:4,\n",
            "                 from source/poisson/../Definitions.h:19,\n",
            "                 from source/poisson/../SimulationData.h:9,\n",
            "                 from source/poisson/PoissonSolverAMR.h:11,\n",
            "                 from source/poisson/PoissonSolverAMR.cpp:9:\n",
            "Cubism/Cubism/Matrix3D.h: In member function ‘void cubism::Matrix3D<DataType, allocator>::_Setup(unsigned int, unsigned int, unsigned int) [with DataType = cubism::ScalarElement<double>; allocator = cubismup3d::aligned_block_allocator]’:\n",
            "Cubism/Cubism/Matrix3D.h:57:21: warning: ignoring return value of ‘int posix_memalign(void**, size_t, size_t)’ declared with attribute ‘warn_unused_result’ [-Wunused-result]\n",
            "   57 |       posix_memalign((void **)&m_pData, std::max(8, CUBISM_ALIGNMENT), sizeof(DataType) * m_nElements);\n",
            "      |       ~~~~~~~~~~~~~~^~~~~~~~~~~~~~~~~~~~~~~~~~~~~~~~~~~~~~~~~~~~~~~~~~~~~~~~~~~~~~~~~~~~~~~~~~~~~~~~~~\n",
            "In file included from Cubism/Cubism/BlockLab.h:4,\n",
            "                 from source/poisson/../Definitions.h:19,\n",
            "                 from source/poisson/PoissonSolverBase.h:4,\n",
            "                 from source/poisson/PoissonSolverBase.cpp:1:\n",
            "Cubism/Cubism/Matrix3D.h: In member function ‘void cubism::Matrix3D<DataType, allocator>::_Setup(unsigned int, unsigned int, unsigned int) [with DataType = cubism::ScalarElement<double>; allocator = cubismup3d::aligned_block_allocator]’:\n",
            "Cubism/Cubism/Matrix3D.h:57:21: warning: ignoring return value of ‘int posix_memalign(void**, size_t, size_t)’ declared with attribute ‘warn_unused_result’ [-Wunused-result]\n",
            "   57 |       posix_memalign((void **)&m_pData, std::max(8, CUBISM_ALIGNMENT), sizeof(DataType) * m_nElements);\n",
            "      |       ~~~~~~~~~~~~~~^~~~~~~~~~~~~~~~~~~~~~~~~~~~~~~~~~~~~~~~~~~~~~~~~~~~~~~~~~~~~~~~~~~~~~~~~~~~~~~~~~\n",
            "In file included from Cubism/Cubism/BlockLab.h:4,\n",
            "                 from source/Definitions.h:19,\n",
            "                 from source/SimulationData.h:9,\n",
            "                 from source/Simulation.h:10,\n",
            "                 from source/Simulation.cpp:7:\n",
            "Cubism/Cubism/Matrix3D.h: In member function ‘void cubism::Matrix3D<DataType, allocator>::_Setup(unsigned int, unsigned int, unsigned int) [with DataType = cubism::VectorElement<3, double>; allocator = cubismup3d::aligned_block_allocator]’:\n",
            "Cubism/Cubism/Matrix3D.h:57:21: warning: ignoring return value of ‘int posix_memalign(void**, size_t, size_t)’ declared with attribute ‘warn_unused_result’ [-Wunused-result]\n",
            "   57 |       posix_memalign((void **)&m_pData, std::max(8, CUBISM_ALIGNMENT), sizeof(DataType) * m_nElements);\n",
            "      |       ~~~~~~~~~~~~~~^~~~~~~~~~~~~~~~~~~~~~~~~~~~~~~~~~~~~~~~~~~~~~~~~~~~~~~~~~~~~~~~~~~~~~~~~~~~~~~~~~\n",
            "Cubism/Cubism/Matrix3D.h: In member function ‘void cubism::Matrix3D<DataType, allocator>::_Setup(unsigned int, unsigned int, unsigned int) [with DataType = cubism::ScalarElement<double>; allocator = cubismup3d::aligned_block_allocator]’:\n",
            "Cubism/Cubism/Matrix3D.h:57:21: warning: ignoring return value of ‘int posix_memalign(void**, size_t, size_t)’ declared with attribute ‘warn_unused_result’ [-Wunused-result]\n"
          ]
        }
      ]
    },
    {
      "cell_type": "code",
      "source": [
        "%%sh\n",
        "cd CUP3D\n",
        "OMPI_ALLOW_RUN_AS_ROOT=1 OMPI_ALLOW_RUN_AS_ROOT_CONFIRM=1 bash run.sh"
      ],
      "metadata": {
        "colab": {
          "base_uri": "https://localhost:8080/",
          "height": 1000
        },
        "id": "S29iiopwnAl2",
        "outputId": "f93dbb61-67a0-45ea-9273-a467ada49e61"
      },
      "execution_count": null,
      "outputs": [
        {
          "output_type": "stream",
          "name": "stdout",
          "text": [
            "Valid =  1\n",
            "Valid =  2\n",
            "=======================================================================\n",
            "Cubism UP 3D (velocity-pressure 3D incompressible Navier-Stokes solver)\n",
            "=======================================================================\n",
            "Running in RELEASE mode!\n",
            "~~~~~~~~~~~~~~~~~~~~~~~~~~~~~~~~~~~~~~~~~~~~~~~~~~~~~~~~~~~~~~~~~~~~~~\n",
            "* Summary:\n",
            "*    Parameter read from command line:                20\n",
            "*    Parameter read from   0 file(s):                 0\n",
            "*    Parameter read from defaults in code:            0\n",
            "*    Total number of parameter read from all sources: 20\n",
            "~~~~~~~~~~~~~~~~~~~~~~~~~~~~~~~~~~~~~~~~~~~~~~~~~~~~~~~~~~~~~~~~~~~~~~\n",
            "* Command Line:\n",
            "~~~~~~~~~~~~~~~~~~~~~~~~~~~~~~~~~~~~~~~~~~~~~~~~~~~~~~~~~~~~~~~~~~~~~~\n",
            "CFL...............................................: 0.4\n",
            "Ctol..............................................: 0.1\n",
            "Rtol..............................................: 5.0\n",
            "bMeanConstraint...................................: 2\n",
            "bpdx..............................................: 8\n",
            "bpdy..............................................: 4\n",
            "bpdz..............................................: 4\n",
            "dumpOmegaX........................................: 1\n",
            "dumpOmegaY........................................: 1 dumpOmegaZ 1\n",
            "dumpVelocityX.....................................: 1\n",
            "dumpVelocityY.....................................: 1\n",
            "dumpVelocityZ.....................................: 1\n",
            "extentx...........................................: 8.0\n",
            "factory-content...................................: StefanFish L=0.2 T=1.0 xpos=3.209723057644926 ypos=1.7431121594282564 zpos=2.304278494703795 CorrectPosition=true CorrectZ=true CorrectRoll=true heightProfile=danio widthProfile=stefan bFixFrameOfRef=1 StefanFish L=0.2 T=1.0 xpos=3.424144592217467 ypos=1.3175717978839532 zpos=1.76794065850799 CorrectPosition=true CorrectZ=true CorrectRoll=true heightProfile=danio widthProfile=stefan\n",
            "levelMax..........................................: 7\n",
            "levelStart........................................: 4\n",
            "nu................................................: 0.00001\n",
            "poissonSolver.....................................: iterative\n",
            "tdump.............................................: 0.1\n",
            "tend..............................................: 1.0\n",
            "~~~~~~~~~~~~~~~~~~~~~~~~~~~~~~~~~~~~~~~~~~~~~~~~~~~~~~~~~~~~~~~~~~~~~~\n",
            "[CUP3D] Running with 1 rank(s) and 2 thread(s).\n",
            "[CUP3D] Parsing Arguments.. \n",
            "[CUP3D] Allocating Grid.. \n",
            "Total blocks = 524288, each rank gets 524288\n",
            "Total blocks = 524288, each rank gets 524288\n",
            "Total blocks = 524288, each rank gets 524288\n",
            "Total blocks = 524288, each rank gets 524288\n"
          ]
        },
        {
          "output_type": "stream",
          "name": "stderr",
          "text": [
            "--------------------------------------------------------------------------\n",
            "Primary job  terminated normally, but 1 process returned\n",
            "a non-zero exit code. Per user-direction, the job has been aborted.\n",
            "--------------------------------------------------------------------------\n",
            "--------------------------------------------------------------------------\n",
            "mpiexec noticed that process rank 0 with PID 0 on node cdb6c3645348 exited on signal 9 (Killed).\n",
            "--------------------------------------------------------------------------\n"
          ]
        },
        {
          "output_type": "error",
          "ename": "CalledProcessError",
          "evalue": "Command 'b'cd CUP3D\\nOMPI_ALLOW_RUN_AS_ROOT=1 OMPI_ALLOW_RUN_AS_ROOT_CONFIRM=1 bash run.sh\\n'' returned non-zero exit status 137.",
          "traceback": [
            "\u001b[0;31m---------------------------------------------------------------------------\u001b[0m",
            "\u001b[0;31mCalledProcessError\u001b[0m                        Traceback (most recent call last)",
            "\u001b[0;32m<ipython-input-13-e34c6d27553e>\u001b[0m in \u001b[0;36m<cell line: 1>\u001b[0;34m()\u001b[0m\n\u001b[0;32m----> 1\u001b[0;31m \u001b[0mget_ipython\u001b[0m\u001b[0;34m(\u001b[0m\u001b[0;34m)\u001b[0m\u001b[0;34m.\u001b[0m\u001b[0mrun_cell_magic\u001b[0m\u001b[0;34m(\u001b[0m\u001b[0;34m'sh'\u001b[0m\u001b[0;34m,\u001b[0m \u001b[0;34m''\u001b[0m\u001b[0;34m,\u001b[0m \u001b[0;34m'cd CUP3D\\nOMPI_ALLOW_RUN_AS_ROOT=1 OMPI_ALLOW_RUN_AS_ROOT_CONFIRM=1 bash run.sh\\n'\u001b[0m\u001b[0;34m)\u001b[0m\u001b[0;34m\u001b[0m\u001b[0;34m\u001b[0m\u001b[0m\n\u001b[0m",
            "\u001b[0;32m/usr/local/lib/python3.10/dist-packages/google/colab/_shell.py\u001b[0m in \u001b[0;36mrun_cell_magic\u001b[0;34m(self, magic_name, line, cell)\u001b[0m\n\u001b[1;32m    332\u001b[0m     \u001b[0;32mif\u001b[0m \u001b[0mline\u001b[0m \u001b[0;32mand\u001b[0m \u001b[0;32mnot\u001b[0m \u001b[0mcell\u001b[0m\u001b[0;34m:\u001b[0m\u001b[0;34m\u001b[0m\u001b[0;34m\u001b[0m\u001b[0m\n\u001b[1;32m    333\u001b[0m       \u001b[0mcell\u001b[0m \u001b[0;34m=\u001b[0m \u001b[0;34m' '\u001b[0m\u001b[0;34m\u001b[0m\u001b[0;34m\u001b[0m\u001b[0m\n\u001b[0;32m--> 334\u001b[0;31m     \u001b[0;32mreturn\u001b[0m \u001b[0msuper\u001b[0m\u001b[0;34m(\u001b[0m\u001b[0;34m)\u001b[0m\u001b[0;34m.\u001b[0m\u001b[0mrun_cell_magic\u001b[0m\u001b[0;34m(\u001b[0m\u001b[0mmagic_name\u001b[0m\u001b[0;34m,\u001b[0m \u001b[0mline\u001b[0m\u001b[0;34m,\u001b[0m \u001b[0mcell\u001b[0m\u001b[0;34m)\u001b[0m\u001b[0;34m\u001b[0m\u001b[0;34m\u001b[0m\u001b[0m\n\u001b[0m\u001b[1;32m    335\u001b[0m \u001b[0;34m\u001b[0m\u001b[0m\n\u001b[1;32m    336\u001b[0m \u001b[0;34m\u001b[0m\u001b[0m\n",
            "\u001b[0;32m/usr/local/lib/python3.10/dist-packages/IPython/core/interactiveshell.py\u001b[0m in \u001b[0;36mrun_cell_magic\u001b[0;34m(self, magic_name, line, cell)\u001b[0m\n\u001b[1;32m   2471\u001b[0m             \u001b[0;32mwith\u001b[0m \u001b[0mself\u001b[0m\u001b[0;34m.\u001b[0m\u001b[0mbuiltin_trap\u001b[0m\u001b[0;34m:\u001b[0m\u001b[0;34m\u001b[0m\u001b[0;34m\u001b[0m\u001b[0m\n\u001b[1;32m   2472\u001b[0m                 \u001b[0margs\u001b[0m \u001b[0;34m=\u001b[0m \u001b[0;34m(\u001b[0m\u001b[0mmagic_arg_s\u001b[0m\u001b[0;34m,\u001b[0m \u001b[0mcell\u001b[0m\u001b[0;34m)\u001b[0m\u001b[0;34m\u001b[0m\u001b[0;34m\u001b[0m\u001b[0m\n\u001b[0;32m-> 2473\u001b[0;31m                 \u001b[0mresult\u001b[0m \u001b[0;34m=\u001b[0m \u001b[0mfn\u001b[0m\u001b[0;34m(\u001b[0m\u001b[0;34m*\u001b[0m\u001b[0margs\u001b[0m\u001b[0;34m,\u001b[0m \u001b[0;34m**\u001b[0m\u001b[0mkwargs\u001b[0m\u001b[0;34m)\u001b[0m\u001b[0;34m\u001b[0m\u001b[0;34m\u001b[0m\u001b[0m\n\u001b[0m\u001b[1;32m   2474\u001b[0m             \u001b[0;32mreturn\u001b[0m \u001b[0mresult\u001b[0m\u001b[0;34m\u001b[0m\u001b[0;34m\u001b[0m\u001b[0m\n\u001b[1;32m   2475\u001b[0m \u001b[0;34m\u001b[0m\u001b[0m\n",
            "\u001b[0;32m/usr/local/lib/python3.10/dist-packages/IPython/core/magics/script.py\u001b[0m in \u001b[0;36mnamed_script_magic\u001b[0;34m(line, cell)\u001b[0m\n\u001b[1;32m    140\u001b[0m             \u001b[0;32melse\u001b[0m\u001b[0;34m:\u001b[0m\u001b[0;34m\u001b[0m\u001b[0;34m\u001b[0m\u001b[0m\n\u001b[1;32m    141\u001b[0m                 \u001b[0mline\u001b[0m \u001b[0;34m=\u001b[0m \u001b[0mscript\u001b[0m\u001b[0;34m\u001b[0m\u001b[0;34m\u001b[0m\u001b[0m\n\u001b[0;32m--> 142\u001b[0;31m             \u001b[0;32mreturn\u001b[0m \u001b[0mself\u001b[0m\u001b[0;34m.\u001b[0m\u001b[0mshebang\u001b[0m\u001b[0;34m(\u001b[0m\u001b[0mline\u001b[0m\u001b[0;34m,\u001b[0m \u001b[0mcell\u001b[0m\u001b[0;34m)\u001b[0m\u001b[0;34m\u001b[0m\u001b[0;34m\u001b[0m\u001b[0m\n\u001b[0m\u001b[1;32m    143\u001b[0m \u001b[0;34m\u001b[0m\u001b[0m\n\u001b[1;32m    144\u001b[0m         \u001b[0;31m# write a basic docstring:\u001b[0m\u001b[0;34m\u001b[0m\u001b[0;34m\u001b[0m\u001b[0m\n",
            "\u001b[0;32m<decorator-gen-103>\u001b[0m in \u001b[0;36mshebang\u001b[0;34m(self, line, cell)\u001b[0m\n",
            "\u001b[0;32m/usr/local/lib/python3.10/dist-packages/IPython/core/magic.py\u001b[0m in \u001b[0;36m<lambda>\u001b[0;34m(f, *a, **k)\u001b[0m\n\u001b[1;32m    185\u001b[0m     \u001b[0;31m# but it's overkill for just that one bit of state.\u001b[0m\u001b[0;34m\u001b[0m\u001b[0;34m\u001b[0m\u001b[0m\n\u001b[1;32m    186\u001b[0m     \u001b[0;32mdef\u001b[0m \u001b[0mmagic_deco\u001b[0m\u001b[0;34m(\u001b[0m\u001b[0marg\u001b[0m\u001b[0;34m)\u001b[0m\u001b[0;34m:\u001b[0m\u001b[0;34m\u001b[0m\u001b[0;34m\u001b[0m\u001b[0m\n\u001b[0;32m--> 187\u001b[0;31m         \u001b[0mcall\u001b[0m \u001b[0;34m=\u001b[0m \u001b[0;32mlambda\u001b[0m \u001b[0mf\u001b[0m\u001b[0;34m,\u001b[0m \u001b[0;34m*\u001b[0m\u001b[0ma\u001b[0m\u001b[0;34m,\u001b[0m \u001b[0;34m**\u001b[0m\u001b[0mk\u001b[0m\u001b[0;34m:\u001b[0m \u001b[0mf\u001b[0m\u001b[0;34m(\u001b[0m\u001b[0;34m*\u001b[0m\u001b[0ma\u001b[0m\u001b[0;34m,\u001b[0m \u001b[0;34m**\u001b[0m\u001b[0mk\u001b[0m\u001b[0;34m)\u001b[0m\u001b[0;34m\u001b[0m\u001b[0;34m\u001b[0m\u001b[0m\n\u001b[0m\u001b[1;32m    188\u001b[0m \u001b[0;34m\u001b[0m\u001b[0m\n\u001b[1;32m    189\u001b[0m         \u001b[0;32mif\u001b[0m \u001b[0mcallable\u001b[0m\u001b[0;34m(\u001b[0m\u001b[0marg\u001b[0m\u001b[0;34m)\u001b[0m\u001b[0;34m:\u001b[0m\u001b[0;34m\u001b[0m\u001b[0;34m\u001b[0m\u001b[0m\n",
            "\u001b[0;32m/usr/local/lib/python3.10/dist-packages/IPython/core/magics/script.py\u001b[0m in \u001b[0;36mshebang\u001b[0;34m(self, line, cell)\u001b[0m\n\u001b[1;32m    243\u001b[0m             \u001b[0msys\u001b[0m\u001b[0;34m.\u001b[0m\u001b[0mstderr\u001b[0m\u001b[0;34m.\u001b[0m\u001b[0mflush\u001b[0m\u001b[0;34m(\u001b[0m\u001b[0;34m)\u001b[0m\u001b[0;34m\u001b[0m\u001b[0;34m\u001b[0m\u001b[0m\n\u001b[1;32m    244\u001b[0m         \u001b[0;32mif\u001b[0m \u001b[0margs\u001b[0m\u001b[0;34m.\u001b[0m\u001b[0mraise_error\u001b[0m \u001b[0;32mand\u001b[0m \u001b[0mp\u001b[0m\u001b[0;34m.\u001b[0m\u001b[0mreturncode\u001b[0m\u001b[0;34m!=\u001b[0m\u001b[0;36m0\u001b[0m\u001b[0;34m:\u001b[0m\u001b[0;34m\u001b[0m\u001b[0;34m\u001b[0m\u001b[0m\n\u001b[0;32m--> 245\u001b[0;31m             \u001b[0;32mraise\u001b[0m \u001b[0mCalledProcessError\u001b[0m\u001b[0;34m(\u001b[0m\u001b[0mp\u001b[0m\u001b[0;34m.\u001b[0m\u001b[0mreturncode\u001b[0m\u001b[0;34m,\u001b[0m \u001b[0mcell\u001b[0m\u001b[0;34m,\u001b[0m \u001b[0moutput\u001b[0m\u001b[0;34m=\u001b[0m\u001b[0mout\u001b[0m\u001b[0;34m,\u001b[0m \u001b[0mstderr\u001b[0m\u001b[0;34m=\u001b[0m\u001b[0merr\u001b[0m\u001b[0;34m)\u001b[0m\u001b[0;34m\u001b[0m\u001b[0;34m\u001b[0m\u001b[0m\n\u001b[0m\u001b[1;32m    246\u001b[0m \u001b[0;34m\u001b[0m\u001b[0m\n\u001b[1;32m    247\u001b[0m     \u001b[0;32mdef\u001b[0m \u001b[0m_run_script\u001b[0m\u001b[0;34m(\u001b[0m\u001b[0mself\u001b[0m\u001b[0;34m,\u001b[0m \u001b[0mp\u001b[0m\u001b[0;34m,\u001b[0m \u001b[0mcell\u001b[0m\u001b[0;34m,\u001b[0m \u001b[0mto_close\u001b[0m\u001b[0;34m)\u001b[0m\u001b[0;34m:\u001b[0m\u001b[0;34m\u001b[0m\u001b[0;34m\u001b[0m\u001b[0m\n",
            "\u001b[0;31mCalledProcessError\u001b[0m: Command 'b'cd CUP3D\\nOMPI_ALLOW_RUN_AS_ROOT=1 OMPI_ALLOW_RUN_AS_ROOT_CONFIRM=1 bash run.sh\\n'' returned non-zero exit status 137."
          ]
        }
      ]
    }
  ]
}